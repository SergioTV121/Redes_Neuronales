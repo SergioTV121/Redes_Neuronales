{
  "nbformat": 4,
  "nbformat_minor": 0,
  "metadata": {
    "colab": {
      "provenance": []
    },
    "kernelspec": {
      "name": "python3",
      "display_name": "Python 3"
    },
    "language_info": {
      "name": "python"
    }
  },
  "cells": [
    {
      "cell_type": "code",
      "execution_count": 30,
      "metadata": {
        "id": "WCe_eE1nCyv1"
      },
      "outputs": [],
      "source": [
        "#importamos paquetes\n",
        "import numpy as np"
      ]
    },
    {
      "cell_type": "code",
      "source": [
        "# definimos funciones útiles\n",
        "\n",
        "def sigmoid_prime(x):\n",
        "    return sigmoid(x)*(1-sigmoid(x))\n",
        "\n",
        "def sigmoid(x):\n",
        "    \"\"\"\n",
        "    Calculate sigmoid\n",
        "    \"\"\"\n",
        "    return 1 / (1 + np.exp(-x))"
      ],
      "metadata": {
        "id": "X92Gn5TFC0g4"
      },
      "execution_count": 31,
      "outputs": []
    },
    {
      "cell_type": "code",
      "source": [
        "# Definamos una arquitectura de red 3x2x1\n",
        "\n",
        "x = np.array([0.5, 0.1, -0.2])\n",
        "target = 0.6\n",
        "learnrate = 0.5\n",
        "\n",
        "weights_input_hidden = np.array([[0.5, -0.6],\n",
        "                                 [0.1, -0.2],\n",
        "                                 [0.1, 0.7]])\n",
        "\n",
        "weights_hidden_output = np.array([0.1, -0.3])\n"
      ],
      "metadata": {
        "id": "9Ifh2aRBC0eo"
      },
      "execution_count": 32,
      "outputs": []
    },
    {
      "cell_type": "code",
      "source": [
        "hidden_layer_input = np.dot(x, weights_input_hidden)\n",
        "hidden_layer_output = sigmoid(hidden_layer_input)\n",
        "\n",
        "output_layer_in = np.dot(hidden_layer_output, weights_hidden_output)\n",
        "output = sigmoid(output_layer_in)"
      ],
      "metadata": {
        "id": "cSsLzoH9C0cX"
      },
      "execution_count": 33,
      "outputs": []
    },
    {
      "cell_type": "code",
      "source": [
        "## Backwards pass\n",
        "## TODO: Calcula el error residual\n",
        "error = (target-output)\n",
        "\n",
        "# TODO: Calcula el término de error para la capa de salida\n",
        "del_err_output = error*sigmoid_prime(output_layer_in)\n",
        "\n",
        "# TODO: Calcula el término de error para la capa oculta\n",
        "del_err_hidden = del_err_output* np.multiply(weights_hidden_output , sigmoid_prime(hidden_layer_input))"
      ],
      "metadata": {
        "id": "_D8RNfPXC0Z_"
      },
      "execution_count": 34,
      "outputs": []
    },
    {
      "cell_type": "code",
      "source": [
        "# TODO: Calcular el incremento en cada peso de la capa oculta a la salida\n",
        "delta_w_h_o = del_err_output*learnrate*hidden_layer_output \n",
        "\n",
        "# TODO: Calcular el incremento en la capa de entrada a la oculta\n",
        "\n",
        "delta_w_i_h = learnrate*(del_err_hidden*x[:,None])  #Transpuesta\n",
        "\n",
        "print('Incremento de los pesos oculta a salida:')\n",
        "print(delta_w_h_o)\n",
        "\n",
        "print('Incremento de los pes}os de entrada a oculta:')\n",
        "print(delta_w_i_h)"
      ],
      "metadata": {
        "colab": {
          "base_uri": "https://localhost:8080/"
        },
        "id": "f0XqPdcKC0Xk",
        "outputId": "032ad94d-c19c-4c4c-8471-d7cd9e93e2d3"
      },
      "execution_count": 41,
      "outputs": [
        {
          "output_type": "stream",
          "name": "stdout",
          "text": [
            "[ 0.5  0.1 -0.2]\n",
            "Incremento de los pesos oculta a salida:\n",
            "[0.00804047 0.00555918]\n",
            "Incremento de los pes}os de entrada a oculta:\n",
            "[[ 1.77005547e-04 -5.11178506e-04]\n",
            " [ 3.54011093e-05 -1.02235701e-04]\n",
            " [-7.08022187e-05  2.04471402e-04]]\n"
          ]
        }
      ]
    }
  ]
}