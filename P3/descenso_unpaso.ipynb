{
  "cells": [
    {
      "cell_type": "markdown",
      "metadata": {
        "id": "jiqz9zaNEI8P"
      },
      "source": [
        "# Descenso por gradiente\n",
        "\n",
        "En este notebook implementaremos un paso del método de descenso por gradiente. Este método nos sirve para encontrar los parámetros de la red de tal forma que la salida se asemeje a el valor objetivo.\n",
        "\n",
        "![gradiente](https://github.com/irvingvasquez/cv2course_intro_nn/blob/master/files/gradient_descent_1n_notebook.png?raw=1)\n",
        "\n",
        "[![Open In Colab](https://colab.research.google.com/assets/colab-badge.svg)](https://colab.research.google.com/github/irvingvasquez/cv2course_intro_nn/blob/master/03_descenso_unpaso.ipynb)\n",
        "\n",
        "@juan1rving"
      ]
    },
    {
      "cell_type": "code",
      "execution_count": 1,
      "metadata": {
        "id": "3p4Kj6b5EI8U"
      },
      "outputs": [],
      "source": [
        "# importamos paquetes\n",
        "import numpy as np"
      ]
    },
    {
      "cell_type": "markdown",
      "metadata": {
        "id": "G4L7bxqpEI8W"
      },
      "source": [
        "## Definimos la red neuronal"
      ]
    },
    {
      "cell_type": "code",
      "execution_count": 2,
      "metadata": {
        "id": "epH8yeHNEI8X"
      },
      "outputs": [],
      "source": [
        "# función de activación\n",
        "def sigmoid(x):\n",
        "    return 1/(1+np.exp(-x))\n",
        "\n",
        "# Derivada de f\n",
        "def sigmoid_prime(x):\n",
        "    return sigmoid(x) * (1 - sigmoid(x))\n",
        "\n",
        "# función h lineal\n",
        "def function_h(X, W, b):\n",
        "    return np.dot(W, X) + b\n",
        "\n",
        "# Salida de la RN\n",
        "def output_y(X,W,b):\n",
        "    return sigmoid(function_h(X,W,b))"
      ]
    },
    {
      "cell_type": "markdown",
      "metadata": {
        "id": "sKxgY6z7EI8X"
      },
      "source": [
        "## Término de error\n",
        "\n",
        "Escribe una función que calcule el término de error\n",
        "\n",
        "$$\\delta= (y-\\hat{y})f' (h) = (y-\\hat{y})f' (\\sum_i w_i x_i)$$"
      ]
    },
    {
      "cell_type": "code",
      "execution_count": 3,
      "metadata": {
        "id": "EHzT4eloEI8Y"
      },
      "outputs": [],
      "source": [
        "# TODO: implementar el cálculo del término de error\n",
        "def error_term(y,W,X,b):\n",
        "    y_est=output_y(X,W,b)\n",
        "    return (y-y_est)*(sigmoid_prime(y_est))"
      ]
    },
    {
      "cell_type": "markdown",
      "metadata": {
        "id": "6mt1njk9EI8Z"
      },
      "source": [
        "## Incremento\n",
        "\n",
        "Escribe una función para determinar el incremento a uno de los pesos\n",
        "$$\\Delta w_i= \\eta \\delta x_i$$\n"
      ]
    },
    {
      "cell_type": "code",
      "execution_count": 4,
      "metadata": {
        "id": "0g7-k4THEI8Z"
      },
      "outputs": [],
      "source": [
        "# TODO: implementar el cálculo del incremento\n",
        "def increment(W, X, b, eta, i, y):\n",
        "    return eta*error_term(y,W,X,b)*X[i]    "
      ]
    },
    {
      "cell_type": "markdown",
      "metadata": {
        "id": "-bzqH8mKEI8b"
      },
      "source": [
        "## Verificar funcionamiento\n",
        "\n",
        "A continuación implementemos una red de ejemplo y verificaremos que está funcionando almenos un paso del método de descenso por gradiente."
      ]
    },
    {
      "cell_type": "code",
      "execution_count": 7,
      "metadata": {
        "id": "GcQx1BsaEI8c"
      },
      "outputs": [],
      "source": [
        "# valores de ejemplo\n",
        "learning_rate = 0.3\n",
        "x = np.array([1,1])\n",
        "y = 5\n",
        "\n",
        "# Initial weights\n",
        "w = np.array([0.1,0.2])\n",
        "b = 0"
      ]
    },
    {
      "cell_type": "code",
      "execution_count": 8,
      "metadata": {
        "id": "PpEA9V54EI8c",
        "colab": {
          "base_uri": "https://localhost:8080/"
        },
        "outputId": "2786f8a0-adb6-421b-ad5f-0eef87b36f69"
      },
      "outputs": [
        {
          "output_type": "stream",
          "name": "stdout",
          "text": [
            "Salida: 0.574442516811659\n",
            "Error: 4.425557483188341\n",
            "Termino de error: 1.019911404726894\n",
            "Incremento w1: 0.3059734214180682\n",
            "Incremento w2: 0.3059734214180682\n",
            "Nuevos pesos: [0.40597342 0.50597342]\n",
            "Nuevo error: 4.28660161824467\n"
          ]
        }
      ],
      "source": [
        "# Calcular la salida de la red\n",
        "y_est=output_y(x,w,b)\n",
        "print('Salida:', y_est)\n",
        "\n",
        "# Calcula el error residual de la red\n",
        "\n",
        "print('Error:', y-y_est)\n",
        "\n",
        "# Calcula el termino de error\n",
        "\n",
        "print('Termino de error:', error_term(y,w,x,b))\n",
        "\n",
        "\n",
        "# Calcula el incremento de los pesos\n",
        "\n",
        "dw0=increment(w, x, b, learning_rate, 0, y)\n",
        "dw1=increment(w, x, b, learning_rate, 1, y)\n",
        "print('Incremento w1:', dw0)\n",
        "print('Incremento w2:', dw1)\n",
        "\n",
        "# Calcula el nuevo valor del los pesos\n",
        "w[0]+=dw0\n",
        "w[1]+=dw1\n",
        "print('Nuevos pesos:',w)\n",
        "\n",
        "# Calcula el nuevo error\n",
        "y_est=output_y(x,w,b)\n",
        "print('Nuevo error:',y-y_est)\n"
      ]
    },
    {
      "cell_type": "markdown",
      "metadata": {
        "id": "aVKo5PYUEI8d"
      },
      "source": [
        "\n",
        "\n",
        "Si el nuevo error es menor que el primer error de la red entonces nuesto método de descenso está funcionando.\n",
        "\n",
        "\n",
        "\n",
        "\n",
        "\n"
      ]
    }
  ],
  "metadata": {
    "kernelspec": {
      "display_name": "Python 3",
      "language": "python",
      "name": "python3"
    },
    "language_info": {
      "codemirror_mode": {
        "name": "ipython",
        "version": 3
      },
      "file_extension": ".py",
      "mimetype": "text/x-python",
      "name": "python",
      "nbconvert_exporter": "python",
      "pygments_lexer": "ipython3",
      "version": "3.8.5"
    },
    "colab": {
      "provenance": []
    }
  },
  "nbformat": 4,
  "nbformat_minor": 0
}