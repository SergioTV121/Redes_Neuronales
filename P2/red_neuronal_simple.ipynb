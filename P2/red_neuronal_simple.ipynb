{
  "cells": [
    {
      "cell_type": "markdown",
      "metadata": {
        "id": "U5DZ89Z-wQzl"
      },
      "source": [
        "# Red Neuronal Simple\n",
        "\n",
        "En este notebook programaremos una red neuronal simple (perceptron) utilizando numpy. El objetivo es que comprendamos el funcionamiento del perceptrón y que practiquemos la programación en Python. En la siguiente figura se encuentra una representación del perceptrón.\n",
        "\n",
        "\n",
        "<img src=\"https://github.com/irvingvasquez/cv2course_intro_nn/blob/master/files/simple_nn_notebook.png?raw=1\">\n",
        "\n",
        "[![Open In Colab](https://colab.research.google.com/assets/colab-badge.svg)](https://colab.research.google.com/github/irvingvasquez/cv2course_intro_nn/blob/master/02_red_neuronal_simple.ipynb)\n",
        "\n",
        "@juan1rving\n"
      ]
    },
    {
      "cell_type": "markdown",
      "source": [
        "Datos del alumno\n",
        "\n",
        "Nombre: Tinoco Videgaray Sergio Ernesto\n",
        "\n",
        "Grupo: 6BM1\n",
        "\n",
        "Materia: Redes Neuronales\n",
        "\n",
        "Fecha: 28/02/23"
      ],
      "metadata": {
        "id": "sxpTlyHM5w5D"
      }
    },
    {
      "cell_type": "code",
      "execution_count": null,
      "metadata": {
        "id": "p3b4rYDbwQzt"
      },
      "outputs": [],
      "source": [
        "# Cargamos paquetes\n",
        "import numpy as np"
      ]
    },
    {
      "cell_type": "markdown",
      "source": [],
      "metadata": {
        "id": "7bLBwOLW5uEi"
      }
    },
    {
      "cell_type": "markdown",
      "metadata": {
        "id": "zDHssZMLwQzu"
      },
      "source": [
        "## Calcular producto punto\n",
        "\n",
        "El primer paso es calcular el logit, *h*, a partir del producto punto. La fórmula explícita es la siguiente:\n",
        "\n",
        "$$ h = W X +b $$"
      ]
    },
    {
      "cell_type": "code",
      "execution_count": null,
      "metadata": {
        "id": "PLnpIwCnwQzv"
      },
      "outputs": [],
      "source": [
        "# TODO: Implementar la función H\n",
        "\n",
        "def function_h(X, W, b):\n",
        "    suma = np.dot(X,W) + b\n",
        "    return suma"
      ]
    },
    {
      "cell_type": "markdown",
      "metadata": {
        "id": "luGt46JawQzw"
      },
      "source": [
        "## Función de activación\n",
        "\n",
        "Para este ejemplo utilizaremos la función sigmoide como función de activación.\n",
        "\n",
        "$$ f(x) =  \\frac{\\mathrm{1} }{\\mathrm{1} + e^{-x} }  $$ "
      ]
    },
    {
      "cell_type": "code",
      "execution_count": null,
      "metadata": {
        "id": "hqj8WeXnwQzw"
      },
      "outputs": [],
      "source": [
        "# TODO: Implementar la función de activación. \n",
        "# En este ejemplo utilizaremos la función sigmoide.\n",
        "\n",
        "def sigmoid(x):\n",
        "    sg = 1/(1+(np.exp(-x)))\n",
        "    return sg"
      ]
    },
    {
      "cell_type": "markdown",
      "metadata": {
        "id": "V24-SPlgwQzx"
      },
      "source": [
        "## Probar la red\n",
        "\n",
        "Ahora definamos unos pesos y veamos el resultado de una pasada frontal (fordward pass)."
      ]
    },
    {
      "cell_type": "code",
      "execution_count": null,
      "metadata": {
        "id": "IkssVor0wQzy",
        "outputId": "b5f99183-c4dc-4600-8d11-661a1ca6f683",
        "colab": {
          "base_uri": "https://localhost:8080/"
        }
      },
      "outputs": [
        {
          "output_type": "stream",
          "name": "stdout",
          "text": [
            "Output:\n",
            "0.4329070950345457\n"
          ]
        }
      ],
      "source": [
        "# Definamos unos pesos y sesgo\n",
        "inputs = np.array([0.7, -0.3])\n",
        "weights = np.array([0.1, 0.8])\n",
        "bias = -0.1\n",
        "\n",
        "# Pasada frontal\n",
        "h = function_h(inputs,weights,bias)\n",
        "output = sigmoid(h)\n",
        "\n",
        "print('Output:')\n",
        "print(output)\n"
      ]
    },
    {
      "cell_type": "markdown",
      "metadata": {
        "id": "u8sznBMLwQz0"
      },
      "source": [
        "## Pruebas extra\n",
        " \n",
        "- Define una función de activación de tipo escalón, \"heaviside\".  \n",
        "- ¿Cuáles son los pesos que definen una función OR?"
      ]
    },
    {
      "cell_type": "code",
      "execution_count": null,
      "metadata": {
        "id": "SwW4DzY9wQz1"
      },
      "outputs": [],
      "source": [
        "# TODO: Completar el código\n",
        "def escalon(x):\n",
        "  if(x>0):\n",
        "    return 1\n",
        "  else:\n",
        "    return 0"
      ]
    },
    {
      "cell_type": "code",
      "execution_count": null,
      "metadata": {
        "id": "ZUTql2QVwQz1"
      },
      "outputs": [],
      "source": [
        "# TODO: Realizar el pase frontal y muesta los resultados que concuerdan con la función OR"
      ]
    },
    {
      "cell_type": "code",
      "execution_count": null,
      "metadata": {
        "id": "yTaI4b47wQz2",
        "colab": {
          "base_uri": "https://localhost:8080/"
        },
        "outputId": "fdece92a-9006-4bad-a9b7-ff2294e0626d"
      },
      "outputs": [
        {
          "output_type": "stream",
          "name": "stdout",
          "text": [
            "Output:\n",
            "1\n"
          ]
        }
      ],
      "source": [
        "# Definamos unos pesos y sesgo\n",
        "inputs = np.array([1, 1])\n",
        "weights = np.array([1, 1])\n",
        "bias = 0\n",
        "\n",
        "# Pasada frontal\n",
        "h = function_h(inputs,weights,bias)\n",
        "output = escalon(h)\n",
        "\n",
        "\n",
        "\n",
        "print('Output:')\n",
        "print(output)\n"
      ]
    }
  ],
  "metadata": {
    "kernelspec": {
      "display_name": "nni",
      "language": "python",
      "name": "python3"
    },
    "language_info": {
      "codemirror_mode": {
        "name": "ipython",
        "version": 3
      },
      "file_extension": ".py",
      "mimetype": "text/x-python",
      "name": "python",
      "nbconvert_exporter": "python",
      "pygments_lexer": "ipython3",
      "version": "3.10.9"
    },
    "vscode": {
      "interpreter": {
        "hash": "cbad788490f55b163920bee5e9d5e0cba00db5905dc94f4bdbe0011e55bf465f"
      }
    },
    "colab": {
      "provenance": []
    }
  },
  "nbformat": 4,
  "nbformat_minor": 0
}