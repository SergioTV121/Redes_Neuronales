{
  "nbformat": 4,
  "nbformat_minor": 0,
  "metadata": {
    "colab": {
      "provenance": []
    },
    "kernelspec": {
      "name": "python3",
      "display_name": "Python 3"
    },
    "language_info": {
      "name": "python"
    }
  },
  "cells": [
    {
      "cell_type": "code",
      "source": [
        "import matplotlib.pyplot as plt\n",
        "import numpy as np\n",
        "\n",
        "def view_classify(img, ps, version=\"MNIST\"):\n",
        "    ''' Function for viewing an image and it's predicted classes.\n",
        "    '''\n",
        "    ps = ps.data.numpy().squeeze()\n",
        "\n",
        "    fig, (ax1, ax2) = plt.subplots(figsize=(6,9), ncols=2)\n",
        "    ax1.imshow(img.resize_(1, 28, 28).numpy().squeeze())\n",
        "    ax1.axis('off')\n",
        "    ax2.barh(np.arange(10), ps)\n",
        "    ax2.set_aspect(0.1)\n",
        "    ax2.set_yticks(np.arange(10))\n",
        "    if version == \"MNIST\":\n",
        "        ax2.set_yticklabels(np.arange(10))\n",
        "    elif version == \"Fashion\":\n",
        "        ax2.set_yticklabels(['T-shirt/top',\n",
        "                            'Trouser',\n",
        "                            'Pullover',\n",
        "                            'Dress',\n",
        "                            'Coat',\n",
        "                            'Sandal',\n",
        "                            'Shirt',\n",
        "                            'Sneaker',\n",
        "                            'Bag',\n",
        "                            'Ankle Boot'], size='small');\n",
        "    ax2.set_title('Class Probability')\n",
        "    ax2.set_xlim(0, 1.1)\n",
        "\n",
        "plt.tight_layout()"
      ],
      "metadata": {
        "colab": {
          "base_uri": "https://localhost:8080/",
          "height": 35
        },
        "id": "UtNaI2UgNKrX",
        "outputId": "c6de5baf-e023-4289-dfde-64e78478fbf7"
      },
      "execution_count": 22,
      "outputs": [
        {
          "output_type": "display_data",
          "data": {
            "text/plain": [
              "<Figure size 640x480 with 0 Axes>"
            ]
          },
          "metadata": {}
        }
      ]
    },
    {
      "cell_type": "code",
      "execution_count": 1,
      "metadata": {
        "id": "29IEr5pvI6UK"
      },
      "outputs": [],
      "source": [
        "# importamos paquetes\n",
        "%matplotlib inline\n",
        "%config InlineBackend.figure_format = 'retina'\n",
        "\n",
        "from collections import OrderedDict\n",
        "\n",
        "import numpy as np\n",
        "import time\n",
        "\n",
        "import torch\n",
        "from torch import nn\n",
        "from torch import optim\n",
        "import torch.nn.functional as F\n",
        "\n",
        "import helper"
      ]
    },
    {
      "cell_type": "code",
      "source": [
        "# especificamos que el tensor x es seguido por autograd \n",
        "x = torch.randn(4, requires_grad=True)\n",
        "print(x)"
      ],
      "metadata": {
        "colab": {
          "base_uri": "https://localhost:8080/"
        },
        "id": "Wg0yaVoFJFJn",
        "outputId": "6e42e685-d4a8-4fac-f07b-56b82969bde6"
      },
      "execution_count": 2,
      "outputs": [
        {
          "output_type": "stream",
          "name": "stdout",
          "text": [
            "tensor([ 0.6419, -0.8689, -1.5630,  0.3685], requires_grad=True)\n"
          ]
        }
      ]
    },
    {
      "cell_type": "code",
      "source": [
        "# generamos un nuevo tensor a partir de x\n",
        "# por ejemplo elevemos al cuadrado la variable x\n",
        "y = x**2\n",
        "print(y)"
      ],
      "metadata": {
        "colab": {
          "base_uri": "https://localhost:8080/"
        },
        "id": "q8YCsQuVJJg-",
        "outputId": "86970311-12b4-4037-e977-d6f9e4344815"
      },
      "execution_count": 3,
      "outputs": [
        {
          "output_type": "stream",
          "name": "stdout",
          "text": [
            "tensor([0.4120, 0.7549, 2.4431, 0.1358], grad_fn=<PowBackward0>)\n"
          ]
        }
      ]
    },
    {
      "cell_type": "code",
      "source": [
        "## con grad_fn observamos la operación que generó y, es decir una operación potencia (pow)\n",
        "print(y.grad_fn)"
      ],
      "metadata": {
        "colab": {
          "base_uri": "https://localhost:8080/"
        },
        "id": "H3vJ5ZlgJZTY",
        "outputId": "03340b93-6f3d-4012-a6a8-a365969042e0"
      },
      "execution_count": 4,
      "outputs": [
        {
          "output_type": "stream",
          "name": "stdout",
          "text": [
            "<PowBackward0 object at 0x7f027d5d13a0>\n"
          ]
        }
      ]
    },
    {
      "cell_type": "code",
      "source": [
        "# De esta forma es posible saber las operaciónes que generan cada tensor, y por tanto, es posible calcular el gradiente.\n",
        "# Hagamos ahora una operación de media\n",
        "z = y.mean()\n",
        "print(z)"
      ],
      "metadata": {
        "colab": {
          "base_uri": "https://localhost:8080/"
        },
        "id": "jh4D2g_JJjOe",
        "outputId": "0b363294-8577-4029-896c-691ea3e1b6cc"
      },
      "execution_count": 5,
      "outputs": [
        {
          "output_type": "stream",
          "name": "stdout",
          "text": [
            "tensor(0.9364, grad_fn=<MeanBackward0>)\n"
          ]
        }
      ]
    },
    {
      "cell_type": "code",
      "source": [
        "# hasta este momento los gradientes son cero\n",
        "print(x.grad)"
      ],
      "metadata": {
        "colab": {
          "base_uri": "https://localhost:8080/"
        },
        "id": "RKP5yWCZJqdo",
        "outputId": "1877c974-3989-4516-9f66-3eae425a23aa"
      },
      "execution_count": 6,
      "outputs": [
        {
          "output_type": "stream",
          "name": "stdout",
          "text": [
            "None\n"
          ]
        }
      ]
    },
    {
      "cell_type": "code",
      "source": [
        "z.backward()\n",
        "print(x.grad)\n",
        "\n",
        "print(x/2)"
      ],
      "metadata": {
        "colab": {
          "base_uri": "https://localhost:8080/"
        },
        "id": "fJzcUvGEJuFW",
        "outputId": "e07bf520-474e-4af8-cfe9-78f0b7d84ca3"
      },
      "execution_count": 7,
      "outputs": [
        {
          "output_type": "stream",
          "name": "stdout",
          "text": [
            "tensor([ 0.3209, -0.4344, -0.7815,  0.1842])\n",
            "tensor([ 0.3209, -0.4344, -0.7815,  0.1842], grad_fn=<DivBackward0>)\n"
          ]
        }
      ]
    },
    {
      "cell_type": "code",
      "source": [
        "from torchvision import datasets, transforms\n",
        "\n",
        "# Define a transform to normalize the data\n",
        "transform = transforms.Compose([transforms.ToTensor(),\n",
        "                                #transforms.Normalize((0.5, 0.5, 0.5), (0.5, 0.5, 0.5)),\n",
        "                                transforms.Normalize([0.5],[0.5])\n",
        "                             ])\n",
        "# Download and load the training data\n",
        "trainset = datasets.MNIST('MNIST_data/', download=True, train=True, transform=transform)\n",
        "trainloader = torch.utils.data.DataLoader(trainset, batch_size=64, shuffle=True)"
      ],
      "metadata": {
        "colab": {
          "base_uri": "https://localhost:8080/"
        },
        "id": "83toPIvHJ-jn",
        "outputId": "4dc7aed4-f7d4-4454-eee4-b6cf62d3843a"
      },
      "execution_count": 9,
      "outputs": [
        {
          "output_type": "stream",
          "name": "stdout",
          "text": [
            "Downloading http://yann.lecun.com/exdb/mnist/train-images-idx3-ubyte.gz\n",
            "Downloading http://yann.lecun.com/exdb/mnist/train-images-idx3-ubyte.gz to MNIST_data/MNIST/raw/train-images-idx3-ubyte.gz\n"
          ]
        },
        {
          "output_type": "stream",
          "name": "stderr",
          "text": [
            "100%|██████████| 9912422/9912422 [00:00<00:00, 77431120.99it/s]\n"
          ]
        },
        {
          "output_type": "stream",
          "name": "stdout",
          "text": [
            "Extracting MNIST_data/MNIST/raw/train-images-idx3-ubyte.gz to MNIST_data/MNIST/raw\n",
            "\n",
            "Downloading http://yann.lecun.com/exdb/mnist/train-labels-idx1-ubyte.gz\n",
            "Downloading http://yann.lecun.com/exdb/mnist/train-labels-idx1-ubyte.gz to MNIST_data/MNIST/raw/train-labels-idx1-ubyte.gz\n"
          ]
        },
        {
          "output_type": "stream",
          "name": "stderr",
          "text": [
            "100%|██████████| 28881/28881 [00:00<00:00, 65906253.44it/s]"
          ]
        },
        {
          "output_type": "stream",
          "name": "stdout",
          "text": [
            "Extracting MNIST_data/MNIST/raw/train-labels-idx1-ubyte.gz to MNIST_data/MNIST/raw\n",
            "\n",
            "Downloading http://yann.lecun.com/exdb/mnist/t10k-images-idx3-ubyte.gz\n",
            "Downloading http://yann.lecun.com/exdb/mnist/t10k-images-idx3-ubyte.gz to MNIST_data/MNIST/raw/t10k-images-idx3-ubyte.gz\n"
          ]
        },
        {
          "output_type": "stream",
          "name": "stderr",
          "text": [
            "\n",
            "100%|██████████| 1648877/1648877 [00:00<00:00, 21608919.28it/s]\n"
          ]
        },
        {
          "output_type": "stream",
          "name": "stdout",
          "text": [
            "Extracting MNIST_data/MNIST/raw/t10k-images-idx3-ubyte.gz to MNIST_data/MNIST/raw\n",
            "\n",
            "Downloading http://yann.lecun.com/exdb/mnist/t10k-labels-idx1-ubyte.gz\n",
            "Downloading http://yann.lecun.com/exdb/mnist/t10k-labels-idx1-ubyte.gz to MNIST_data/MNIST/raw/t10k-labels-idx1-ubyte.gz\n"
          ]
        },
        {
          "output_type": "stream",
          "name": "stderr",
          "text": [
            "100%|██████████| 4542/4542 [00:00<00:00, 6872485.13it/s]"
          ]
        },
        {
          "output_type": "stream",
          "name": "stdout",
          "text": [
            "Extracting MNIST_data/MNIST/raw/t10k-labels-idx1-ubyte.gz to MNIST_data/MNIST/raw\n",
            "\n"
          ]
        },
        {
          "output_type": "stream",
          "name": "stderr",
          "text": [
            "\n"
          ]
        }
      ]
    },
    {
      "cell_type": "code",
      "source": [
        "# Hyperparameters for our network\n",
        "input_size = 784\n",
        "hidden_sizes = [128, 64]\n",
        "output_size = 10\n",
        "\n",
        "# Build a feed-forward network\n",
        "model = nn.Sequential(OrderedDict([\n",
        "                      ('fc1', nn.Linear(input_size, hidden_sizes[0])),\n",
        "                      ('relu1', nn.ReLU()),\n",
        "                      ('fc2', nn.Linear(hidden_sizes[0], hidden_sizes[1])),\n",
        "                      ('relu2', nn.ReLU()),\n",
        "                      ('logits', nn.Linear(hidden_sizes[1], output_size))]))\n",
        "\n",
        "# NOTA solo calcularemos los logits y definiremos la perdida a partir de ellos"
      ],
      "metadata": {
        "id": "stwbg24FKQaW"
      },
      "execution_count": 10,
      "outputs": []
    },
    {
      "cell_type": "code",
      "source": [
        "# TODO: Define la pérdida \n",
        "criterion = nn.CrossEntropyLoss()\n",
        "optimizer = optim.SGD(model.parameters(), lr=0.01)"
      ],
      "metadata": {
        "id": "mQAXHoLIKjxn"
      },
      "execution_count": 11,
      "outputs": []
    },
    {
      "cell_type": "code",
      "source": [
        "print('Initial weights - ', model.fc1.weight)"
      ],
      "metadata": {
        "colab": {
          "base_uri": "https://localhost:8080/"
        },
        "id": "0fx3kbfjKsBI",
        "outputId": "37c83774-e4f5-4fdf-ed4f-a9a975f61877"
      },
      "execution_count": 12,
      "outputs": [
        {
          "output_type": "stream",
          "name": "stdout",
          "text": [
            "Initial weights -  Parameter containing:\n",
            "tensor([[-0.0132,  0.0147, -0.0255,  ..., -0.0067,  0.0125,  0.0148],\n",
            "        [ 0.0005, -0.0352,  0.0316,  ..., -0.0075, -0.0126,  0.0038],\n",
            "        [ 0.0006, -0.0119, -0.0212,  ...,  0.0109, -0.0189,  0.0184],\n",
            "        ...,\n",
            "        [ 0.0159, -0.0191, -0.0287,  ...,  0.0263,  0.0352, -0.0284],\n",
            "        [ 0.0128, -0.0097,  0.0113,  ...,  0.0271,  0.0200, -0.0287],\n",
            "        [-0.0177, -0.0327, -0.0059,  ...,  0.0221,  0.0342,  0.0182]],\n",
            "       requires_grad=True)\n"
          ]
        }
      ]
    },
    {
      "cell_type": "code",
      "source": [
        "images, labels = next(iter(trainloader))\n",
        "images.resize_(64, 784)\n",
        "\n",
        "# Limpiar los gradientes por que se acumulan\n",
        "optimizer.zero_grad()\n",
        "\n",
        "# Pase hacia adelante\n",
        "output = model.forward(images)\n",
        "# Perdida\n",
        "loss = criterion(output, labels)\n",
        "# Pase de reversa\n",
        "loss.backward()\n",
        "print('Gradient -', model.fc1.weight.grad)\n",
        "# Actualiza los pesos de acuerdo a un paso del optimizador\n",
        "optimizer.step()"
      ],
      "metadata": {
        "colab": {
          "base_uri": "https://localhost:8080/"
        },
        "id": "N5YcKOdoKx6m",
        "outputId": "0251614a-35c9-4f3f-9220-d036ec2fe087"
      },
      "execution_count": 13,
      "outputs": [
        {
          "output_type": "stream",
          "name": "stdout",
          "text": [
            "Gradient - tensor([[ 1.7451e-03,  1.7451e-03,  1.7451e-03,  ...,  1.7451e-03,\n",
            "          1.7451e-03,  1.7451e-03],\n",
            "        [ 4.9525e-04,  4.9525e-04,  4.9525e-04,  ...,  4.9525e-04,\n",
            "          4.9525e-04,  4.9525e-04],\n",
            "        [ 3.5110e-03,  3.5110e-03,  3.5110e-03,  ...,  3.5110e-03,\n",
            "          3.5110e-03,  3.5110e-03],\n",
            "        ...,\n",
            "        [-1.3341e-03, -1.3341e-03, -1.3341e-03,  ..., -1.3341e-03,\n",
            "         -1.3341e-03, -1.3341e-03],\n",
            "        [ 4.7164e-06,  4.7164e-06,  4.7164e-06,  ...,  4.7164e-06,\n",
            "          4.7164e-06,  4.7164e-06],\n",
            "        [-2.6915e-03, -2.6915e-03, -2.6915e-03,  ..., -2.6915e-03,\n",
            "         -2.6915e-03, -2.6915e-03]])\n"
          ]
        }
      ]
    },
    {
      "cell_type": "code",
      "source": [
        "print('Updated weights - ', model.fc1.weight)"
      ],
      "metadata": {
        "colab": {
          "base_uri": "https://localhost:8080/"
        },
        "id": "8ECF5TVqK3ct",
        "outputId": "bd3648fa-3bb2-4117-ebaa-14a4d90aff33"
      },
      "execution_count": 14,
      "outputs": [
        {
          "output_type": "stream",
          "name": "stdout",
          "text": [
            "Updated weights -  Parameter containing:\n",
            "tensor([[-0.0132,  0.0147, -0.0255,  ..., -0.0067,  0.0125,  0.0148],\n",
            "        [ 0.0005, -0.0352,  0.0316,  ..., -0.0075, -0.0126,  0.0038],\n",
            "        [ 0.0006, -0.0119, -0.0212,  ...,  0.0109, -0.0189,  0.0183],\n",
            "        ...,\n",
            "        [ 0.0159, -0.0191, -0.0287,  ...,  0.0264,  0.0352, -0.0283],\n",
            "        [ 0.0128, -0.0097,  0.0113,  ...,  0.0271,  0.0200, -0.0287],\n",
            "        [-0.0177, -0.0327, -0.0058,  ...,  0.0222,  0.0342,  0.0182]],\n",
            "       requires_grad=True)\n"
          ]
        }
      ]
    },
    {
      "cell_type": "code",
      "source": [
        "# hiperparámetros\n",
        "# número de épocas\n",
        "epochs = 10\n",
        "tasa_de_aprendizaje = 0.005#0.003\n",
        "\n",
        "# TODO: redefine la configuración del optimizador usando la tasa de aprendizaje objetivo\n",
        "optimizer = optim.SGD(model.parameters(), lr=tasa_de_aprendizaje)"
      ],
      "metadata": {
        "id": "T6nz6A-bLBDn"
      },
      "execution_count": 29,
      "outputs": []
    },
    {
      "cell_type": "code",
      "source": [
        "print_every = 40\n",
        "steps = 0\n",
        "\n",
        "for e in range(epochs):\n",
        "    running_loss = 0\n",
        "    # en cada iteración del for cargamos un batch\n",
        "    for images, labels in iter(trainloader):\n",
        "        steps += 1\n",
        "        # Aplanar las imagenes de MNIST\n",
        "        images.resize_(images.size()[0], 784)\n",
        "        \n",
        "        # Reiniciar el gradiente\n",
        "        optimizer.zero_grad()\n",
        "        \n",
        "        # TODO: Pase frontal de la red\n",
        "        output = model.forward(images)\n",
        "        \n",
        "        # TODO: Estimar la perdida\n",
        "        loss = criterion(output, labels)\n",
        "        \n",
        "        # TODO: Backprogation\n",
        "        loss.backward()\n",
        "        \n",
        "        # TODO: Actualizamos los pesos\n",
        "        optimizer.step()\n",
        "        \n",
        "        # Guardamos la perdida para control del entrenamiento\n",
        "        running_loss += loss.item()\n",
        "        \n",
        "        # imprimimos cada 40 lotes\n",
        "        if steps % print_every == 0:\n",
        "            print(\"Epoch: {}/{}... \".format(e+1, epochs),\n",
        "                  \"Loss: {:.4f}\".format(running_loss/print_every))\n",
        "            \n",
        "            running_loss = 0"
      ],
      "metadata": {
        "colab": {
          "base_uri": "https://localhost:8080/"
        },
        "id": "DcaZhwMpLEE3",
        "outputId": "1d9ac839-a40a-4a25-febe-257fc6d23066"
      },
      "execution_count": 30,
      "outputs": [
        {
          "output_type": "stream",
          "name": "stdout",
          "text": [
            "Epoch: 1/10...  Loss: 0.2560\n",
            "Epoch: 1/10...  Loss: 0.2254\n",
            "Epoch: 1/10...  Loss: 0.2608\n",
            "Epoch: 1/10...  Loss: 0.2349\n",
            "Epoch: 1/10...  Loss: 0.2696\n",
            "Epoch: 1/10...  Loss: 0.2602\n",
            "Epoch: 1/10...  Loss: 0.2237\n",
            "Epoch: 1/10...  Loss: 0.2466\n",
            "Epoch: 1/10...  Loss: 0.2121\n",
            "Epoch: 1/10...  Loss: 0.2488\n",
            "Epoch: 1/10...  Loss: 0.2433\n",
            "Epoch: 1/10...  Loss: 0.2373\n",
            "Epoch: 1/10...  Loss: 0.2374\n",
            "Epoch: 1/10...  Loss: 0.2308\n",
            "Epoch: 1/10...  Loss: 0.2461\n",
            "Epoch: 1/10...  Loss: 0.2439\n",
            "Epoch: 1/10...  Loss: 0.2453\n",
            "Epoch: 1/10...  Loss: 0.2534\n",
            "Epoch: 1/10...  Loss: 0.2359\n",
            "Epoch: 1/10...  Loss: 0.2126\n",
            "Epoch: 1/10...  Loss: 0.2067\n",
            "Epoch: 1/10...  Loss: 0.2087\n",
            "Epoch: 1/10...  Loss: 0.2213\n",
            "Epoch: 2/10...  Loss: 0.1299\n",
            "Epoch: 2/10...  Loss: 0.2420\n",
            "Epoch: 2/10...  Loss: 0.2116\n",
            "Epoch: 2/10...  Loss: 0.2272\n",
            "Epoch: 2/10...  Loss: 0.2376\n",
            "Epoch: 2/10...  Loss: 0.2366\n",
            "Epoch: 2/10...  Loss: 0.2259\n",
            "Epoch: 2/10...  Loss: 0.2012\n",
            "Epoch: 2/10...  Loss: 0.2063\n",
            "Epoch: 2/10...  Loss: 0.2430\n",
            "Epoch: 2/10...  Loss: 0.2366\n",
            "Epoch: 2/10...  Loss: 0.2474\n",
            "Epoch: 2/10...  Loss: 0.2227\n",
            "Epoch: 2/10...  Loss: 0.2204\n",
            "Epoch: 2/10...  Loss: 0.2185\n",
            "Epoch: 2/10...  Loss: 0.2350\n",
            "Epoch: 2/10...  Loss: 0.2339\n",
            "Epoch: 2/10...  Loss: 0.2328\n",
            "Epoch: 2/10...  Loss: 0.2233\n",
            "Epoch: 2/10...  Loss: 0.2266\n",
            "Epoch: 2/10...  Loss: 0.2452\n",
            "Epoch: 2/10...  Loss: 0.2313\n",
            "Epoch: 2/10...  Loss: 0.2164\n",
            "Epoch: 3/10...  Loss: 0.0298\n",
            "Epoch: 3/10...  Loss: 0.2369\n",
            "Epoch: 3/10...  Loss: 0.2075\n",
            "Epoch: 3/10...  Loss: 0.2090\n",
            "Epoch: 3/10...  Loss: 0.2107\n",
            "Epoch: 3/10...  Loss: 0.2282\n",
            "Epoch: 3/10...  Loss: 0.2347\n",
            "Epoch: 3/10...  Loss: 0.2495\n",
            "Epoch: 3/10...  Loss: 0.2009\n",
            "Epoch: 3/10...  Loss: 0.2047\n",
            "Epoch: 3/10...  Loss: 0.2360\n",
            "Epoch: 3/10...  Loss: 0.2389\n",
            "Epoch: 3/10...  Loss: 0.2107\n",
            "Epoch: 3/10...  Loss: 0.2140\n",
            "Epoch: 3/10...  Loss: 0.2045\n",
            "Epoch: 3/10...  Loss: 0.2012\n",
            "Epoch: 3/10...  Loss: 0.2022\n",
            "Epoch: 3/10...  Loss: 0.2101\n",
            "Epoch: 3/10...  Loss: 0.2417\n",
            "Epoch: 3/10...  Loss: 0.2109\n",
            "Epoch: 3/10...  Loss: 0.2264\n",
            "Epoch: 3/10...  Loss: 0.2400\n",
            "Epoch: 3/10...  Loss: 0.2127\n",
            "Epoch: 3/10...  Loss: 0.2271\n",
            "Epoch: 4/10...  Loss: 0.1564\n",
            "Epoch: 4/10...  Loss: 0.2078\n",
            "Epoch: 4/10...  Loss: 0.1983\n",
            "Epoch: 4/10...  Loss: 0.2076\n",
            "Epoch: 4/10...  Loss: 0.2205\n",
            "Epoch: 4/10...  Loss: 0.2102\n",
            "Epoch: 4/10...  Loss: 0.2194\n",
            "Epoch: 4/10...  Loss: 0.2094\n",
            "Epoch: 4/10...  Loss: 0.2305\n",
            "Epoch: 4/10...  Loss: 0.2214\n",
            "Epoch: 4/10...  Loss: 0.2160\n",
            "Epoch: 4/10...  Loss: 0.2338\n",
            "Epoch: 4/10...  Loss: 0.2111\n",
            "Epoch: 4/10...  Loss: 0.2200\n",
            "Epoch: 4/10...  Loss: 0.1809\n",
            "Epoch: 4/10...  Loss: 0.2140\n",
            "Epoch: 4/10...  Loss: 0.2039\n",
            "Epoch: 4/10...  Loss: 0.2111\n",
            "Epoch: 4/10...  Loss: 0.2109\n",
            "Epoch: 4/10...  Loss: 0.1956\n",
            "Epoch: 4/10...  Loss: 0.2068\n",
            "Epoch: 4/10...  Loss: 0.2027\n",
            "Epoch: 4/10...  Loss: 0.2149\n",
            "Epoch: 5/10...  Loss: 0.0423\n",
            "Epoch: 5/10...  Loss: 0.2178\n",
            "Epoch: 5/10...  Loss: 0.2182\n",
            "Epoch: 5/10...  Loss: 0.2213\n",
            "Epoch: 5/10...  Loss: 0.2062\n",
            "Epoch: 5/10...  Loss: 0.1882\n",
            "Epoch: 5/10...  Loss: 0.2016\n",
            "Epoch: 5/10...  Loss: 0.2110\n",
            "Epoch: 5/10...  Loss: 0.2161\n",
            "Epoch: 5/10...  Loss: 0.2115\n",
            "Epoch: 5/10...  Loss: 0.2020\n",
            "Epoch: 5/10...  Loss: 0.2180\n",
            "Epoch: 5/10...  Loss: 0.2208\n",
            "Epoch: 5/10...  Loss: 0.2042\n",
            "Epoch: 5/10...  Loss: 0.2115\n",
            "Epoch: 5/10...  Loss: 0.1911\n",
            "Epoch: 5/10...  Loss: 0.1918\n",
            "Epoch: 5/10...  Loss: 0.2043\n",
            "Epoch: 5/10...  Loss: 0.1925\n",
            "Epoch: 5/10...  Loss: 0.2110\n",
            "Epoch: 5/10...  Loss: 0.1741\n",
            "Epoch: 5/10...  Loss: 0.1804\n",
            "Epoch: 5/10...  Loss: 0.2031\n",
            "Epoch: 5/10...  Loss: 0.2046\n",
            "Epoch: 6/10...  Loss: 0.1389\n",
            "Epoch: 6/10...  Loss: 0.1900\n",
            "Epoch: 6/10...  Loss: 0.2077\n",
            "Epoch: 6/10...  Loss: 0.2038\n",
            "Epoch: 6/10...  Loss: 0.2015\n",
            "Epoch: 6/10...  Loss: 0.1966\n",
            "Epoch: 6/10...  Loss: 0.2050\n",
            "Epoch: 6/10...  Loss: 0.1946\n",
            "Epoch: 6/10...  Loss: 0.1913\n",
            "Epoch: 6/10...  Loss: 0.2078\n",
            "Epoch: 6/10...  Loss: 0.2105\n",
            "Epoch: 6/10...  Loss: 0.2059\n",
            "Epoch: 6/10...  Loss: 0.2115\n",
            "Epoch: 6/10...  Loss: 0.2102\n",
            "Epoch: 6/10...  Loss: 0.1797\n",
            "Epoch: 6/10...  Loss: 0.1948\n",
            "Epoch: 6/10...  Loss: 0.1877\n",
            "Epoch: 6/10...  Loss: 0.1932\n",
            "Epoch: 6/10...  Loss: 0.1781\n",
            "Epoch: 6/10...  Loss: 0.1832\n",
            "Epoch: 6/10...  Loss: 0.1902\n",
            "Epoch: 6/10...  Loss: 0.1703\n",
            "Epoch: 6/10...  Loss: 0.1901\n",
            "Epoch: 7/10...  Loss: 0.0550\n",
            "Epoch: 7/10...  Loss: 0.1947\n",
            "Epoch: 7/10...  Loss: 0.1777\n",
            "Epoch: 7/10...  Loss: 0.1803\n",
            "Epoch: 7/10...  Loss: 0.1963\n",
            "Epoch: 7/10...  Loss: 0.1942\n",
            "Epoch: 7/10...  Loss: 0.1760\n",
            "Epoch: 7/10...  Loss: 0.2076\n",
            "Epoch: 7/10...  Loss: 0.1983\n",
            "Epoch: 7/10...  Loss: 0.1851\n",
            "Epoch: 7/10...  Loss: 0.2024\n",
            "Epoch: 7/10...  Loss: 0.1769\n",
            "Epoch: 7/10...  Loss: 0.1778\n",
            "Epoch: 7/10...  Loss: 0.2005\n",
            "Epoch: 7/10...  Loss: 0.1992\n",
            "Epoch: 7/10...  Loss: 0.1965\n",
            "Epoch: 7/10...  Loss: 0.1999\n",
            "Epoch: 7/10...  Loss: 0.1832\n",
            "Epoch: 7/10...  Loss: 0.1838\n",
            "Epoch: 7/10...  Loss: 0.1792\n",
            "Epoch: 7/10...  Loss: 0.1961\n",
            "Epoch: 7/10...  Loss: 0.1933\n",
            "Epoch: 7/10...  Loss: 0.1772\n",
            "Epoch: 7/10...  Loss: 0.1965\n",
            "Epoch: 8/10...  Loss: 0.1536\n",
            "Epoch: 8/10...  Loss: 0.1853\n",
            "Epoch: 8/10...  Loss: 0.1752\n",
            "Epoch: 8/10...  Loss: 0.1632\n",
            "Epoch: 8/10...  Loss: 0.1815\n",
            "Epoch: 8/10...  Loss: 0.1834\n",
            "Epoch: 8/10...  Loss: 0.1902\n",
            "Epoch: 8/10...  Loss: 0.1720\n",
            "Epoch: 8/10...  Loss: 0.1884\n",
            "Epoch: 8/10...  Loss: 0.1988\n",
            "Epoch: 8/10...  Loss: 0.2086\n",
            "Epoch: 8/10...  Loss: 0.1899\n",
            "Epoch: 8/10...  Loss: 0.1728\n",
            "Epoch: 8/10...  Loss: 0.1888\n",
            "Epoch: 8/10...  Loss: 0.1849\n",
            "Epoch: 8/10...  Loss: 0.1904\n",
            "Epoch: 8/10...  Loss: 0.1719\n",
            "Epoch: 8/10...  Loss: 0.1731\n",
            "Epoch: 8/10...  Loss: 0.1753\n",
            "Epoch: 8/10...  Loss: 0.1936\n",
            "Epoch: 8/10...  Loss: 0.1925\n",
            "Epoch: 8/10...  Loss: 0.1894\n",
            "Epoch: 8/10...  Loss: 0.1698\n",
            "Epoch: 9/10...  Loss: 0.0732\n",
            "Epoch: 9/10...  Loss: 0.1790\n",
            "Epoch: 9/10...  Loss: 0.1716\n",
            "Epoch: 9/10...  Loss: 0.1789\n",
            "Epoch: 9/10...  Loss: 0.2073\n",
            "Epoch: 9/10...  Loss: 0.1908\n",
            "Epoch: 9/10...  Loss: 0.1872\n",
            "Epoch: 9/10...  Loss: 0.1844\n",
            "Epoch: 9/10...  Loss: 0.1602\n",
            "Epoch: 9/10...  Loss: 0.1854\n",
            "Epoch: 9/10...  Loss: 0.1740\n",
            "Epoch: 9/10...  Loss: 0.1833\n",
            "Epoch: 9/10...  Loss: 0.1661\n",
            "Epoch: 9/10...  Loss: 0.1542\n",
            "Epoch: 9/10...  Loss: 0.1723\n",
            "Epoch: 9/10...  Loss: 0.1882\n",
            "Epoch: 9/10...  Loss: 0.1853\n",
            "Epoch: 9/10...  Loss: 0.1608\n",
            "Epoch: 9/10...  Loss: 0.1764\n",
            "Epoch: 9/10...  Loss: 0.1770\n",
            "Epoch: 9/10...  Loss: 0.1957\n",
            "Epoch: 9/10...  Loss: 0.1734\n",
            "Epoch: 9/10...  Loss: 0.1606\n",
            "Epoch: 9/10...  Loss: 0.1760\n",
            "Epoch: 10/10...  Loss: 0.1627\n",
            "Epoch: 10/10...  Loss: 0.1677\n",
            "Epoch: 10/10...  Loss: 0.1462\n",
            "Epoch: 10/10...  Loss: 0.1736\n",
            "Epoch: 10/10...  Loss: 0.1923\n",
            "Epoch: 10/10...  Loss: 0.1658\n",
            "Epoch: 10/10...  Loss: 0.1634\n",
            "Epoch: 10/10...  Loss: 0.1749\n",
            "Epoch: 10/10...  Loss: 0.1735\n",
            "Epoch: 10/10...  Loss: 0.1860\n",
            "Epoch: 10/10...  Loss: 0.1488\n",
            "Epoch: 10/10...  Loss: 0.1555\n",
            "Epoch: 10/10...  Loss: 0.1802\n",
            "Epoch: 10/10...  Loss: 0.1936\n",
            "Epoch: 10/10...  Loss: 0.1895\n",
            "Epoch: 10/10...  Loss: 0.1475\n",
            "Epoch: 10/10...  Loss: 0.1603\n",
            "Epoch: 10/10...  Loss: 0.1643\n",
            "Epoch: 10/10...  Loss: 0.1853\n",
            "Epoch: 10/10...  Loss: 0.1967\n",
            "Epoch: 10/10...  Loss: 0.1949\n",
            "Epoch: 10/10...  Loss: 0.1705\n",
            "Epoch: 10/10...  Loss: 0.1402\n"
          ]
        }
      ]
    },
    {
      "cell_type": "code",
      "source": [
        "images, labels = next(iter(trainloader))\n",
        "\n",
        "img = images[0].view(1, 784)\n",
        "# Turn off gradients to speed up this part\n",
        "with torch.no_grad():\n",
        "    logits = model.forward(img)\n",
        "\n",
        "# Output of the network are logits, need to take softmax for probabilities\n",
        "ps = F.softmax(logits, dim=1)\n",
        "view_classify(img.view(1, 28, 28), ps)"
      ],
      "metadata": {
        "colab": {
          "base_uri": "https://localhost:8080/",
          "height": 289
        },
        "id": "Q4mlyEsWMV-W",
        "outputId": "e93164cd-4ee5-44a9-ec1b-d55665a3b3a2"
      },
      "execution_count": 35,
      "outputs": [
        {
          "output_type": "display_data",
          "data": {
            "text/plain": [
              "<Figure size 600x900 with 2 Axes>"
            ],
            "image/png": "[encoded data removed]"
          },
          "metadata": {
            "image/png": {
              "width": 484,
              "height": 272
            }
          }
        }
      ]
    }
  ]
}