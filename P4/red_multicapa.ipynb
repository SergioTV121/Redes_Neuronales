{
  "nbformat": 4,
  "nbformat_minor": 0,
  "metadata": {
    "colab": {
      "provenance": []
    },
    "kernelspec": {
      "name": "python3",
      "display_name": "Python 3"
    },
    "language_info": {
      "name": "python"
    }
  },
  "cells": [
    {
      "cell_type": "code",
      "execution_count": 1,
      "metadata": {
        "id": "e0CYdtfdPWyJ"
      },
      "outputs": [],
      "source": [
        "# Importamos paquetes\n",
        "import numpy as np\n",
        "\n",
        "np.random.seed(42)"
      ]
    },
    {
      "cell_type": "code",
      "source": [
        "# Funciones necesarias\n",
        "def sigmoid(x):\n",
        "    \"\"\"\n",
        "    Función sigmoide\n",
        "    \"\"\"\n",
        "    return 1/(1+np.exp(-x))"
      ],
      "metadata": {
        "id": "c-xl1QuOQ02c"
      },
      "execution_count": 2,
      "outputs": []
    },
    {
      "cell_type": "code",
      "source": [
        "# TODO: Especifica el tamaño de las capas de acuerdo al diagrama.\n",
        "N_input = 4\n",
        "N_hidden = 3\n",
        "N_out = 2"
      ],
      "metadata": {
        "id": "DEdA3qLGQ14k"
      },
      "execution_count": 3,
      "outputs": []
    },
    {
      "cell_type": "code",
      "source": [
        "#TODO: Completa el código faltante\n",
        "\n",
        "mean = None\n",
        "stdev = None\n",
        "\n",
        "W_input_to_hidden = np.random.normal(loc=0.0, scale=1.0, size=(N_input,N_hidden))\n",
        "\n",
        "W_hidden_out = np.random.normal(loc=0.0, scale=1.0, size=(N_hidden,N_out))\n",
        "\n",
        "X = [0.1,0.2,0.3,0.4]"
      ],
      "metadata": {
        "id": "qNYVXIHZQ3yE"
      },
      "execution_count": 6,
      "outputs": []
    },
    {
      "cell_type": "code",
      "source": [
        "# TODO: Producto punto\n",
        "input_to_hidden = np.dot(X,W_input_to_hidden)\n",
        "out_of_hidden = sigmoid(input_to_hidden)\n",
        "\n",
        "print(\"salida de la capa oculta: \", out_of_hidden)\n",
        "\n",
        "# TODO: Producto punto\n",
        "input_to_out = np.dot(out_of_hidden,W_hidden_out)\n",
        "out_of_network = sigmoid(input_to_out)\n",
        "\n",
        "print(\"salida de la red: \", out_of_network)"
      ],
      "metadata": {
        "colab": {
          "base_uri": "https://localhost:8080/"
        },
        "id": "7-Wjk8ygQ5BM",
        "outputId": "ee43a72e-490d-42db-87b1-9bb0981bb4bb"
      },
      "execution_count": 7,
      "outputs": [
        {
          "output_type": "stream",
          "name": "stdout",
          "text": [
            "salida de la capa oculta:  [0.38912802 0.31204542 0.44032407]\n",
            "salida de la red:  [0.30248918 0.50798886]\n"
          ]
        }
      ]
    }
  ]
}